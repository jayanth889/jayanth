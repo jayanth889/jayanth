{
 "cells": [
  {
   "cell_type": "code",
   "execution_count": 3,
   "id": "64907142",
   "metadata": {},
   "outputs": [],
   "source": [
    "import numpy as np\n",
    "import pandas as pd\n",
    "from sklearn import preprocessing\n",
    "from sklearn.preprocessing import StandardScaler\n",
    "from sklearn.model_selection import train_test_split\n",
    "from sklearn.linear_model import LogisticRegression\n",
    "from sklearn.tree import DecisionTreeClassifier\n",
    "from sklearn.neighbors import KNeighborsClassifier\n",
    "from sklearn.svm import SVC\n",
    "from sklearn.ensemble import RandomForestClassifier\n",
    "from sklearn.decomposition import PCA\n",
    "from sklearn import model_selection\n",
    "from sklearn.metrics import classification_report\n",
    "from sklearn.metrics import confusion_matrix\n",
    "from sklearn.metrics import accuracy_score\n",
    "import matplotlib.pyplot as plt\n",
    "%matplotlib inline\n",
    "import seaborn as sns"
   ]
  },
  {
   "cell_type": "code",
   "execution_count": 4,
   "id": "1e950bff",
   "metadata": {},
   "outputs": [],
   "source": [
    "data_train = pd.read_csv(\"C:\\\\Users\\\\jayan\\\\OneDrive\\\\Desktop\\\\DM DATASET\\\\train.csv\", na_values =['NA'])\n",
    "columns = data_train.columns.values[0].split(';')\n",
    "columns = [column.replace('\"', '') for column in columns]\n",
    "data_train = data_train.values\n",
    "data_train = [items[0].split(';') for items in data_train]\n",
    "data_train = pd.DataFrame(data_train,columns = columns)\n",
    "\n",
    "data_train['job'] = data_train['job'].str.replace('\"', '')\n",
    "data_train['marital'] = data_train['marital'].str.replace('\"', '')\n",
    "data_train['education'] = data_train['education'].str.replace('\"', '')\n",
    "data_train['default'] = data_train['default'].str.replace('\"', '')\n",
    "data_train['housing'] = data_train['housing'].str.replace('\"', '')\n",
    "data_train['loan'] = data_train['loan'].str.replace('\"', '')\n",
    "data_train['contact'] = data_train['contact'].str.replace('\"', '')\n",
    "data_train['month'] = data_train['month'].str.replace('\"', '')\n",
    "data_train['day'] = data_train['day'].str.replace('\"', '')\n",
    "data_train['poutcome'] = data_train['poutcome'].str.replace('\"', '')\n",
    "data_train['y'] = data_train['y'].str.replace('\"', '')"
   ]
  },
  {
   "cell_type": "code",
   "execution_count": 5,
   "id": "80fa791f",
   "metadata": {},
   "outputs": [
    {
     "data": {
      "text/html": [
       "<div>\n",
       "<style scoped>\n",
       "    .dataframe tbody tr th:only-of-type {\n",
       "        vertical-align: middle;\n",
       "    }\n",
       "\n",
       "    .dataframe tbody tr th {\n",
       "        vertical-align: top;\n",
       "    }\n",
       "\n",
       "    .dataframe thead th {\n",
       "        text-align: right;\n",
       "    }\n",
       "</style>\n",
       "<table border=\"1\" class=\"dataframe\">\n",
       "  <thead>\n",
       "    <tr style=\"text-align: right;\">\n",
       "      <th></th>\n",
       "      <th>age</th>\n",
       "      <th>job</th>\n",
       "      <th>marital</th>\n",
       "      <th>education</th>\n",
       "      <th>default</th>\n",
       "      <th>balance</th>\n",
       "      <th>housing</th>\n",
       "      <th>loan</th>\n",
       "      <th>contact</th>\n",
       "      <th>day</th>\n",
       "      <th>month</th>\n",
       "      <th>duration</th>\n",
       "      <th>campaign</th>\n",
       "      <th>pdays</th>\n",
       "      <th>previous</th>\n",
       "      <th>poutcome</th>\n",
       "      <th>y</th>\n",
       "    </tr>\n",
       "  </thead>\n",
       "  <tbody>\n",
       "    <tr>\n",
       "      <th>0</th>\n",
       "      <td>58</td>\n",
       "      <td>management</td>\n",
       "      <td>married</td>\n",
       "      <td>tertiary</td>\n",
       "      <td>no</td>\n",
       "      <td>2143</td>\n",
       "      <td>yes</td>\n",
       "      <td>no</td>\n",
       "      <td>unknown</td>\n",
       "      <td>5</td>\n",
       "      <td>may</td>\n",
       "      <td>261</td>\n",
       "      <td>1</td>\n",
       "      <td>-1</td>\n",
       "      <td>0</td>\n",
       "      <td>unknown</td>\n",
       "      <td>no</td>\n",
       "    </tr>\n",
       "    <tr>\n",
       "      <th>1</th>\n",
       "      <td>44</td>\n",
       "      <td>technician</td>\n",
       "      <td>single</td>\n",
       "      <td>secondary</td>\n",
       "      <td>no</td>\n",
       "      <td>29</td>\n",
       "      <td>yes</td>\n",
       "      <td>no</td>\n",
       "      <td>unknown</td>\n",
       "      <td>5</td>\n",
       "      <td>may</td>\n",
       "      <td>151</td>\n",
       "      <td>1</td>\n",
       "      <td>-1</td>\n",
       "      <td>0</td>\n",
       "      <td>unknown</td>\n",
       "      <td>no</td>\n",
       "    </tr>\n",
       "    <tr>\n",
       "      <th>2</th>\n",
       "      <td>33</td>\n",
       "      <td>entrepreneur</td>\n",
       "      <td>married</td>\n",
       "      <td>secondary</td>\n",
       "      <td>no</td>\n",
       "      <td>2</td>\n",
       "      <td>yes</td>\n",
       "      <td>yes</td>\n",
       "      <td>unknown</td>\n",
       "      <td>5</td>\n",
       "      <td>may</td>\n",
       "      <td>76</td>\n",
       "      <td>1</td>\n",
       "      <td>-1</td>\n",
       "      <td>0</td>\n",
       "      <td>unknown</td>\n",
       "      <td>no</td>\n",
       "    </tr>\n",
       "    <tr>\n",
       "      <th>3</th>\n",
       "      <td>47</td>\n",
       "      <td>blue-collar</td>\n",
       "      <td>married</td>\n",
       "      <td>unknown</td>\n",
       "      <td>no</td>\n",
       "      <td>1506</td>\n",
       "      <td>yes</td>\n",
       "      <td>no</td>\n",
       "      <td>unknown</td>\n",
       "      <td>5</td>\n",
       "      <td>may</td>\n",
       "      <td>92</td>\n",
       "      <td>1</td>\n",
       "      <td>-1</td>\n",
       "      <td>0</td>\n",
       "      <td>unknown</td>\n",
       "      <td>no</td>\n",
       "    </tr>\n",
       "    <tr>\n",
       "      <th>4</th>\n",
       "      <td>33</td>\n",
       "      <td>unknown</td>\n",
       "      <td>single</td>\n",
       "      <td>unknown</td>\n",
       "      <td>no</td>\n",
       "      <td>1</td>\n",
       "      <td>no</td>\n",
       "      <td>no</td>\n",
       "      <td>unknown</td>\n",
       "      <td>5</td>\n",
       "      <td>may</td>\n",
       "      <td>198</td>\n",
       "      <td>1</td>\n",
       "      <td>-1</td>\n",
       "      <td>0</td>\n",
       "      <td>unknown</td>\n",
       "      <td>no</td>\n",
       "    </tr>\n",
       "  </tbody>\n",
       "</table>\n",
       "</div>"
      ],
      "text/plain": [
       "  age           job  marital  education default balance housing loan  contact  \\\n",
       "0  58    management  married   tertiary      no    2143     yes   no  unknown   \n",
       "1  44    technician   single  secondary      no      29     yes   no  unknown   \n",
       "2  33  entrepreneur  married  secondary      no       2     yes  yes  unknown   \n",
       "3  47   blue-collar  married    unknown      no    1506     yes   no  unknown   \n",
       "4  33       unknown   single    unknown      no       1      no   no  unknown   \n",
       "\n",
       "  day month duration campaign pdays previous poutcome   y  \n",
       "0   5   may      261        1    -1        0  unknown  no  \n",
       "1   5   may      151        1    -1        0  unknown  no  \n",
       "2   5   may       76        1    -1        0  unknown  no  \n",
       "3   5   may       92        1    -1        0  unknown  no  \n",
       "4   5   may      198        1    -1        0  unknown  no  "
      ]
     },
     "execution_count": 5,
     "metadata": {},
     "output_type": "execute_result"
    }
   ],
   "source": [
    "data_train.head()"
   ]
  },
  {
   "cell_type": "code",
   "execution_count": 6,
   "id": "2b64d86f",
   "metadata": {},
   "outputs": [],
   "source": [
    "data_test = pd.read_csv(\"C:\\\\Users\\\\jayan\\\\OneDrive\\\\Desktop\\\\DM DATASET\\\\test.csv\", na_values =['NA'])\n",
    "data_test = data_test.values\n",
    "data_test = [items[0].split(';') for items in data_test]\n",
    "data_test = pd.DataFrame(data_test,columns = columns)\n",
    "\n",
    "data_test['job'] = data_test['job'].str.replace('\"', '')\n",
    "data_test['marital'] = data_test['marital'].str.replace('\"', '')\n",
    "data_test['education'] = data_test['education'].str.replace('\"', '')\n",
    "data_test['default'] = data_test['default'].str.replace('\"', '')\n",
    "data_test['housing'] = data_test['housing'].str.replace('\"', '')\n",
    "data_test['loan'] = data_test['loan'].str.replace('\"', '')\n",
    "data_test['contact'] = data_test['contact'].str.replace('\"', '')\n",
    "data_test['month'] = data_test['month'].str.replace('\"', '')\n",
    "data_test['day'] = data_test['day'].str.replace('\"', '')\n",
    "data_test['poutcome'] = data_test['poutcome'].str.replace('\"', '')\n",
    "data_test['y'] = data_test['y'].str.replace('\"', '')"
   ]
  },
  {
   "cell_type": "code",
   "execution_count": 7,
   "id": "1135b4e5",
   "metadata": {},
   "outputs": [
    {
     "data": {
      "text/html": [
       "<div>\n",
       "<style scoped>\n",
       "    .dataframe tbody tr th:only-of-type {\n",
       "        vertical-align: middle;\n",
       "    }\n",
       "\n",
       "    .dataframe tbody tr th {\n",
       "        vertical-align: top;\n",
       "    }\n",
       "\n",
       "    .dataframe thead th {\n",
       "        text-align: right;\n",
       "    }\n",
       "</style>\n",
       "<table border=\"1\" class=\"dataframe\">\n",
       "  <thead>\n",
       "    <tr style=\"text-align: right;\">\n",
       "      <th></th>\n",
       "      <th>age</th>\n",
       "      <th>job</th>\n",
       "      <th>marital</th>\n",
       "      <th>education</th>\n",
       "      <th>default</th>\n",
       "      <th>balance</th>\n",
       "      <th>housing</th>\n",
       "      <th>loan</th>\n",
       "      <th>contact</th>\n",
       "      <th>day</th>\n",
       "      <th>month</th>\n",
       "      <th>duration</th>\n",
       "      <th>campaign</th>\n",
       "      <th>pdays</th>\n",
       "      <th>previous</th>\n",
       "      <th>poutcome</th>\n",
       "      <th>y</th>\n",
       "    </tr>\n",
       "  </thead>\n",
       "  <tbody>\n",
       "    <tr>\n",
       "      <th>0</th>\n",
       "      <td>30</td>\n",
       "      <td>unemployed</td>\n",
       "      <td>married</td>\n",
       "      <td>primary</td>\n",
       "      <td>no</td>\n",
       "      <td>1787</td>\n",
       "      <td>no</td>\n",
       "      <td>no</td>\n",
       "      <td>cellular</td>\n",
       "      <td>19</td>\n",
       "      <td>oct</td>\n",
       "      <td>79</td>\n",
       "      <td>1</td>\n",
       "      <td>-1</td>\n",
       "      <td>0</td>\n",
       "      <td>unknown</td>\n",
       "      <td>no</td>\n",
       "    </tr>\n",
       "    <tr>\n",
       "      <th>1</th>\n",
       "      <td>33</td>\n",
       "      <td>services</td>\n",
       "      <td>married</td>\n",
       "      <td>secondary</td>\n",
       "      <td>no</td>\n",
       "      <td>4789</td>\n",
       "      <td>yes</td>\n",
       "      <td>yes</td>\n",
       "      <td>cellular</td>\n",
       "      <td>11</td>\n",
       "      <td>may</td>\n",
       "      <td>220</td>\n",
       "      <td>1</td>\n",
       "      <td>339</td>\n",
       "      <td>4</td>\n",
       "      <td>failure</td>\n",
       "      <td>no</td>\n",
       "    </tr>\n",
       "    <tr>\n",
       "      <th>2</th>\n",
       "      <td>35</td>\n",
       "      <td>management</td>\n",
       "      <td>single</td>\n",
       "      <td>tertiary</td>\n",
       "      <td>no</td>\n",
       "      <td>1350</td>\n",
       "      <td>yes</td>\n",
       "      <td>no</td>\n",
       "      <td>cellular</td>\n",
       "      <td>16</td>\n",
       "      <td>apr</td>\n",
       "      <td>185</td>\n",
       "      <td>1</td>\n",
       "      <td>330</td>\n",
       "      <td>1</td>\n",
       "      <td>failure</td>\n",
       "      <td>no</td>\n",
       "    </tr>\n",
       "    <tr>\n",
       "      <th>3</th>\n",
       "      <td>30</td>\n",
       "      <td>management</td>\n",
       "      <td>married</td>\n",
       "      <td>tertiary</td>\n",
       "      <td>no</td>\n",
       "      <td>1476</td>\n",
       "      <td>yes</td>\n",
       "      <td>yes</td>\n",
       "      <td>unknown</td>\n",
       "      <td>3</td>\n",
       "      <td>jun</td>\n",
       "      <td>199</td>\n",
       "      <td>4</td>\n",
       "      <td>-1</td>\n",
       "      <td>0</td>\n",
       "      <td>unknown</td>\n",
       "      <td>no</td>\n",
       "    </tr>\n",
       "    <tr>\n",
       "      <th>4</th>\n",
       "      <td>59</td>\n",
       "      <td>blue-collar</td>\n",
       "      <td>married</td>\n",
       "      <td>secondary</td>\n",
       "      <td>no</td>\n",
       "      <td>0</td>\n",
       "      <td>yes</td>\n",
       "      <td>no</td>\n",
       "      <td>unknown</td>\n",
       "      <td>5</td>\n",
       "      <td>may</td>\n",
       "      <td>226</td>\n",
       "      <td>1</td>\n",
       "      <td>-1</td>\n",
       "      <td>0</td>\n",
       "      <td>unknown</td>\n",
       "      <td>no</td>\n",
       "    </tr>\n",
       "  </tbody>\n",
       "</table>\n",
       "</div>"
      ],
      "text/plain": [
       "  age          job  marital  education default balance housing loan   contact  \\\n",
       "0  30   unemployed  married    primary      no    1787      no   no  cellular   \n",
       "1  33     services  married  secondary      no    4789     yes  yes  cellular   \n",
       "2  35   management   single   tertiary      no    1350     yes   no  cellular   \n",
       "3  30   management  married   tertiary      no    1476     yes  yes   unknown   \n",
       "4  59  blue-collar  married  secondary      no       0     yes   no   unknown   \n",
       "\n",
       "  day month duration campaign pdays previous poutcome   y  \n",
       "0  19   oct       79        1    -1        0  unknown  no  \n",
       "1  11   may      220        1   339        4  failure  no  \n",
       "2  16   apr      185        1   330        1  failure  no  \n",
       "3   3   jun      199        4    -1        0  unknown  no  \n",
       "4   5   may      226        1    -1        0  unknown  no  "
      ]
     },
     "execution_count": 7,
     "metadata": {},
     "output_type": "execute_result"
    }
   ],
   "source": [
    "data_test.head()"
   ]
  },
  {
   "cell_type": "code",
   "execution_count": 8,
   "id": "9e66759c",
   "metadata": {},
   "outputs": [],
   "source": [
    "def categorize(df):\n",
    "    new_df = df.copy()\n",
    "    le = preprocessing.LabelEncoder()\n",
    "    \n",
    "    new_df['job'] = le.fit_transform(new_df['job'])\n",
    "    new_df['marital'] = le.fit_transform(new_df['marital'])\n",
    "    new_df['education'] = le.fit_transform(new_df['education'])\n",
    "    new_df['default'] = le.fit_transform(new_df['default'])\n",
    "    new_df['housing'] = le.fit_transform(new_df['housing'])\n",
    "    new_df['month'] = le.fit_transform(new_df['month'])\n",
    "    new_df['loan'] = le.fit_transform(new_df['loan'])\n",
    "    new_df['contact'] = le.fit_transform(new_df['contact'])\n",
    "    new_df['day'] = le.fit_transform(new_df['day'])\n",
    "    new_df['poutcome'] = le.fit_transform(new_df['poutcome'])\n",
    "    new_df['y'] = le.fit_transform(new_df['y'])\n",
    "    return new_df"
   ]
  },
  {
   "cell_type": "code",
   "execution_count": 9,
   "id": "b2fe8089",
   "metadata": {},
   "outputs": [
    {
     "data": {
      "text/html": [
       "<div>\n",
       "<style scoped>\n",
       "    .dataframe tbody tr th:only-of-type {\n",
       "        vertical-align: middle;\n",
       "    }\n",
       "\n",
       "    .dataframe tbody tr th {\n",
       "        vertical-align: top;\n",
       "    }\n",
       "\n",
       "    .dataframe thead th {\n",
       "        text-align: right;\n",
       "    }\n",
       "</style>\n",
       "<table border=\"1\" class=\"dataframe\">\n",
       "  <thead>\n",
       "    <tr style=\"text-align: right;\">\n",
       "      <th></th>\n",
       "      <th>age</th>\n",
       "      <th>job</th>\n",
       "      <th>marital</th>\n",
       "      <th>education</th>\n",
       "      <th>default</th>\n",
       "      <th>balance</th>\n",
       "      <th>housing</th>\n",
       "      <th>loan</th>\n",
       "      <th>contact</th>\n",
       "      <th>day</th>\n",
       "      <th>month</th>\n",
       "      <th>duration</th>\n",
       "      <th>campaign</th>\n",
       "      <th>pdays</th>\n",
       "      <th>previous</th>\n",
       "      <th>poutcome</th>\n",
       "      <th>y</th>\n",
       "    </tr>\n",
       "  </thead>\n",
       "  <tbody>\n",
       "    <tr>\n",
       "      <th>0</th>\n",
       "      <td>58</td>\n",
       "      <td>management</td>\n",
       "      <td>married</td>\n",
       "      <td>tertiary</td>\n",
       "      <td>no</td>\n",
       "      <td>2143</td>\n",
       "      <td>yes</td>\n",
       "      <td>no</td>\n",
       "      <td>unknown</td>\n",
       "      <td>5</td>\n",
       "      <td>may</td>\n",
       "      <td>261</td>\n",
       "      <td>1</td>\n",
       "      <td>-1</td>\n",
       "      <td>0</td>\n",
       "      <td>unknown</td>\n",
       "      <td>no</td>\n",
       "    </tr>\n",
       "    <tr>\n",
       "      <th>1</th>\n",
       "      <td>44</td>\n",
       "      <td>technician</td>\n",
       "      <td>single</td>\n",
       "      <td>secondary</td>\n",
       "      <td>no</td>\n",
       "      <td>29</td>\n",
       "      <td>yes</td>\n",
       "      <td>no</td>\n",
       "      <td>unknown</td>\n",
       "      <td>5</td>\n",
       "      <td>may</td>\n",
       "      <td>151</td>\n",
       "      <td>1</td>\n",
       "      <td>-1</td>\n",
       "      <td>0</td>\n",
       "      <td>unknown</td>\n",
       "      <td>no</td>\n",
       "    </tr>\n",
       "    <tr>\n",
       "      <th>2</th>\n",
       "      <td>33</td>\n",
       "      <td>entrepreneur</td>\n",
       "      <td>married</td>\n",
       "      <td>secondary</td>\n",
       "      <td>no</td>\n",
       "      <td>2</td>\n",
       "      <td>yes</td>\n",
       "      <td>yes</td>\n",
       "      <td>unknown</td>\n",
       "      <td>5</td>\n",
       "      <td>may</td>\n",
       "      <td>76</td>\n",
       "      <td>1</td>\n",
       "      <td>-1</td>\n",
       "      <td>0</td>\n",
       "      <td>unknown</td>\n",
       "      <td>no</td>\n",
       "    </tr>\n",
       "    <tr>\n",
       "      <th>3</th>\n",
       "      <td>47</td>\n",
       "      <td>blue-collar</td>\n",
       "      <td>married</td>\n",
       "      <td>unknown</td>\n",
       "      <td>no</td>\n",
       "      <td>1506</td>\n",
       "      <td>yes</td>\n",
       "      <td>no</td>\n",
       "      <td>unknown</td>\n",
       "      <td>5</td>\n",
       "      <td>may</td>\n",
       "      <td>92</td>\n",
       "      <td>1</td>\n",
       "      <td>-1</td>\n",
       "      <td>0</td>\n",
       "      <td>unknown</td>\n",
       "      <td>no</td>\n",
       "    </tr>\n",
       "    <tr>\n",
       "      <th>4</th>\n",
       "      <td>33</td>\n",
       "      <td>unknown</td>\n",
       "      <td>single</td>\n",
       "      <td>unknown</td>\n",
       "      <td>no</td>\n",
       "      <td>1</td>\n",
       "      <td>no</td>\n",
       "      <td>no</td>\n",
       "      <td>unknown</td>\n",
       "      <td>5</td>\n",
       "      <td>may</td>\n",
       "      <td>198</td>\n",
       "      <td>1</td>\n",
       "      <td>-1</td>\n",
       "      <td>0</td>\n",
       "      <td>unknown</td>\n",
       "      <td>no</td>\n",
       "    </tr>\n",
       "  </tbody>\n",
       "</table>\n",
       "</div>"
      ],
      "text/plain": [
       "  age           job  marital  education default balance housing loan  contact  \\\n",
       "0  58    management  married   tertiary      no    2143     yes   no  unknown   \n",
       "1  44    technician   single  secondary      no      29     yes   no  unknown   \n",
       "2  33  entrepreneur  married  secondary      no       2     yes  yes  unknown   \n",
       "3  47   blue-collar  married    unknown      no    1506     yes   no  unknown   \n",
       "4  33       unknown   single    unknown      no       1      no   no  unknown   \n",
       "\n",
       "  day month duration campaign pdays previous poutcome   y  \n",
       "0   5   may      261        1    -1        0  unknown  no  \n",
       "1   5   may      151        1    -1        0  unknown  no  \n",
       "2   5   may       76        1    -1        0  unknown  no  \n",
       "3   5   may       92        1    -1        0  unknown  no  \n",
       "4   5   may      198        1    -1        0  unknown  no  "
      ]
     },
     "execution_count": 9,
     "metadata": {},
     "output_type": "execute_result"
    }
   ],
   "source": [
    "data = pd.concat([data_train, data_test])\n",
    "data.head()"
   ]
  },
  {
   "cell_type": "code",
   "execution_count": 10,
   "id": "3dfc70ea",
   "metadata": {},
   "outputs": [
    {
     "data": {
      "text/plain": [
       "age          0\n",
       "job          0\n",
       "marital      0\n",
       "education    0\n",
       "default      0\n",
       "balance      0\n",
       "housing      0\n",
       "loan         0\n",
       "contact      0\n",
       "day          0\n",
       "month        0\n",
       "duration     0\n",
       "campaign     0\n",
       "pdays        0\n",
       "previous     0\n",
       "poutcome     0\n",
       "y            0\n",
       "dtype: int64"
      ]
     },
     "execution_count": 10,
     "metadata": {},
     "output_type": "execute_result"
    }
   ],
   "source": [
    "data.isnull().sum()"
   ]
  },
  {
   "cell_type": "code",
   "execution_count": 11,
   "id": "f5be14d7",
   "metadata": {},
   "outputs": [
    {
     "name": "stdout",
     "output_type": "stream",
     "text": [
      "age\n",
      "['58' '44' '33' '47' '35' '28' '42' '43' '41' '29' '53' '57' '51' '45'\n",
      " '60' '56' '32' '25' '40' '39' '52' '46' '36' '49' '59' '37' '50' '54'\n",
      " '55' '48' '24' '38' '31' '30' '27' '34' '23' '26' '61' '22' '21' '20'\n",
      " '66' '62' '83' '75' '67' '70' '65' '68' '64' '69' '72' '71' '19' '76'\n",
      " '85' '63' '90' '82' '73' '74' '78' '80' '94' '79' '77' '86' '95' '81'\n",
      " '18' '89' '84' '87' '92' '93' '88']\n",
      "job\n",
      "['management' 'technician' 'entrepreneur' 'blue-collar' 'unknown'\n",
      " 'retired' 'admin.' 'services' 'self-employed' 'unemployed' 'housemaid'\n",
      " 'student']\n",
      "marital\n",
      "['married' 'single' 'divorced']\n",
      "education\n",
      "['tertiary' 'secondary' 'unknown' 'primary']\n",
      "default\n",
      "['no' 'yes']\n",
      "balance\n",
      "['2143' '29' '2' ... '8205' '14204' '16353']\n",
      "housing\n",
      "['yes' 'no']\n",
      "loan\n",
      "['no' 'yes']\n",
      "contact\n",
      "['unknown' 'cellular' 'telephone']\n",
      "day\n",
      "['5' '6' '7' '8' '9' '12' '13' '14' '15' '16' '19' '20' '21' '23' '26'\n",
      " '27' '28' '29' '30' '2' '3' '4' '11' '17' '18' '24' '25' '1' '10' '22'\n",
      " '31']\n",
      "month\n",
      "['may' 'jun' 'jul' 'aug' 'oct' 'nov' 'dec' 'jan' 'feb' 'mar' 'apr' 'sep']\n",
      "duration\n",
      "['261' '151' '76' ... '1298' '1246' '1556']\n",
      "campaign\n",
      "['1' '2' '3' '5' '4' '6' '7' '8' '9' '10' '11' '12' '13' '19' '14' '24'\n",
      " '16' '32' '18' '22' '15' '17' '25' '21' '43' '51' '63' '41' '26' '28'\n",
      " '55' '50' '38' '23' '20' '29' '31' '37' '30' '46' '27' '58' '33' '35'\n",
      " '34' '36' '39' '44']\n",
      "pdays\n",
      "['-1' '151' '166' '91' '86' '143' '147' '89' '140' '176' '101' '174' '170'\n",
      " '167' '195' '165' '129' '188' '196' '172' '118' '119' '104' '171' '117'\n",
      " '164' '132' '131' '123' '159' '186' '111' '115' '116' '173' '178' '110'\n",
      " '152' '96' '103' '150' '175' '193' '181' '185' '154' '145' '138' '126'\n",
      " '180' '109' '158' '168' '97' '182' '127' '130' '194' '125' '105' '102'\n",
      " '26' '179' '28' '183' '155' '112' '120' '137' '124' '187' '190' '113'\n",
      " '162' '134' '169' '189' '8' '144' '191' '184' '177' '5' '99' '133' '93'\n",
      " '92' '10' '100' '156' '198' '106' '153' '146' '128' '7' '121' '160' '107'\n",
      " '90' '27' '197' '136' '139' '122' '157' '149' '135' '30' '114' '98' '192'\n",
      " '163' '34' '95' '141' '31' '199' '94' '108' '29' '268' '247' '253' '226'\n",
      " '244' '239' '245' '204' '231' '238' '258' '230' '254' '265' '71' '223'\n",
      " '246' '250' '266' '240' '205' '261' '259' '241' '260' '234' '251' '225'\n",
      " '161' '237' '262' '248' '255' '220' '227' '206' '224' '249' '235' '228'\n",
      " '263' '2' '270' '232' '252' '207' '200' '269' '233' '256' '273' '272'\n",
      " '242' '264' '208' '214' '222' '271' '203' '221' '202' '216' '201' '257'\n",
      " '229' '210' '217' '75' '213' '73' '76' '267' '211' '215' '77' '236' '82'\n",
      " '6' '209' '274' '1' '243' '212' '275' '80' '276' '9' '279' '12' '280'\n",
      " '88' '277' '85' '84' '219' '24' '21' '282' '41' '294' '49' '329' '307'\n",
      " '303' '331' '308' '300' '64' '314' '287' '330' '332' '302' '323' '318'\n",
      " '333' '60' '326' '335' '313' '312' '305' '325' '327' '336' '309' '328'\n",
      " '322' '39' '316' '292' '295' '310' '306' '320' '317' '289' '57' '321'\n",
      " '142' '339' '301' '315' '337' '334' '340' '319' '17' '74' '148' '341'\n",
      " '299' '344' '342' '324' '345' '346' '304' '281' '343' '338' '14' '347'\n",
      " '15' '291' '348' '349' '285' '350' '284' '25' '283' '278' '81' '4' '87'\n",
      " '83' '79' '70' '13' '293' '37' '78' '63' '22' '296' '355' '66' '19' '35'\n",
      " '360' '357' '354' '351' '362' '358' '365' '298' '286' '364' '363' '47'\n",
      " '361' '288' '366' '356' '352' '359' '297' '367' '353' '368' '42' '290'\n",
      " '67' '371' '370' '369' '50' '36' '373' '374' '372' '311' '375' '378' '59'\n",
      " '379' '40' '18' '43' '20' '69' '38' '385' '56' '55' '44' '391' '72' '390'\n",
      " '32' '62' '399' '393' '65' '377' '395' '388' '389' '386' '61' '412' '405'\n",
      " '434' '394' '382' '459' '440' '397' '383' '68' '461' '462' '463' '422'\n",
      " '51' '457' '430' '442' '403' '454' '428' '392' '410' '401' '474' '475'\n",
      " '477' '478' '54' '476' '380' '479' '45' '46' '495' '58' '48' '518' '52'\n",
      " '515' '520' '511' '536' '387' '218' '33' '544' '435' '436' '555' '433'\n",
      " '446' '558' '469' '616' '561' '553' '384' '592' '467' '585' '480' '421'\n",
      " '667' '626' '426' '595' '381' '376' '648' '521' '452' '449' '633' '398'\n",
      " '53' '460' '670' '551' '414' '557' '687' '404' '651' '686' '425' '504'\n",
      " '578' '674' '416' '586' '411' '756' '450' '745' '514' '417' '424' '776'\n",
      " '396' '683' '529' '439' '415' '456' '407' '458' '532' '481' '791' '701'\n",
      " '531' '792' '413' '445' '535' '784' '419' '455' '491' '431' '542' '470'\n",
      " '472' '717' '437' '3' '782' '728' '828' '524' '562' '761' '492' '775'\n",
      " '579' '493' '464' '760' '466' '465' '656' '831' '490' '432' '655' '427'\n",
      " '749' '838' '769' '587' '778' '854' '779' '850' '771' '594' '842' '589'\n",
      " '603' '484' '489' '486' '409' '444' '680' '808' '485' '503' '690' '772'\n",
      " '774' '526' '420' '528' '500' '826' '804' '508' '547' '805' '541' '543'\n",
      " '871' '550' '530']\n",
      "previous\n",
      "['0' '3' '1' '4' '2' '11' '16' '6' '5' '10' '12' '7' '18' '9' '21' '8'\n",
      " '14' '15' '26' '37' '13' '25' '20' '27' '17' '23' '38' '29' '24' '51'\n",
      " '275' '22' '19' '30' '58' '28' '32' '40' '55' '35' '41']\n",
      "poutcome\n",
      "['unknown' 'failure' 'other' 'success']\n",
      "y\n",
      "['no' 'yes']\n"
     ]
    }
   ],
   "source": [
    "for col in data.select_dtypes(include='object').columns:\n",
    "    print(col)\n",
    "    print(data[col].unique())"
   ]
  },
  {
   "cell_type": "code",
   "execution_count": 12,
   "id": "075d4bc6",
   "metadata": {},
   "outputs": [
    {
     "name": "stdout",
     "output_type": "stream",
     "text": [
      "No missing value found\n"
     ]
    }
   ],
   "source": [
    "features_na = [features for features in data.columns if data[features].isnull().sum() > 0]\n",
    "for feature in features_na:\n",
    "    print(feature, np.round(data[feature].isnull().mean(), 4),  ' % missing values')\n",
    "else:\n",
    "    print(\"No missing value found\")"
   ]
  },
  {
   "cell_type": "code",
   "execution_count": 13,
   "id": "4c06f3a3",
   "metadata": {},
   "outputs": [
    {
     "name": "stdout",
     "output_type": "stream",
     "text": [
      "age 77\n",
      "job 12\n",
      "marital 3\n",
      "education 4\n",
      "default 2\n",
      "balance 7168\n",
      "housing 2\n",
      "loan 2\n",
      "contact 3\n",
      "day 31\n",
      "month 12\n",
      "duration 1573\n",
      "campaign 48\n",
      "pdays 559\n",
      "previous 41\n",
      "poutcome 4\n",
      "y 2\n"
     ]
    }
   ],
   "source": [
    "for column in data.columns:\n",
    "    print(column,data[column].nunique())"
   ]
  },
  {
   "cell_type": "code",
   "execution_count": 14,
   "id": "aa9e40ce",
   "metadata": {},
   "outputs": [
    {
     "data": {
      "text/plain": [
       "<AxesSubplot:xlabel='count', ylabel='job'>"
      ]
     },
     "execution_count": 14,
     "metadata": {},
     "output_type": "execute_result"
    },
    {
     "data": {
      "image/png": "[encoded data removed]",
      "text/plain": [
       "<Figure size 432x288 with 1 Axes>"
      ]
     },
     "metadata": {},
     "output_type": "display_data"
    }
   ],
   "source": [
    "sns.set(style=\"ticks\", color_codes=True)\n",
    "sns.countplot(y='job', data=data)"
   ]
  },
  {
   "cell_type": "code",
   "execution_count": 15,
   "id": "6c664668",
   "metadata": {},
   "outputs": [
    {
     "data": {
      "text/plain": [
       "blue-collar      10678\n",
       "management       10427\n",
       "technician        8365\n",
       "admin.            5649\n",
       "services          4571\n",
       "retired           2494\n",
       "self-employed     1762\n",
       "entrepreneur      1655\n",
       "unemployed        1431\n",
       "housemaid         1352\n",
       "student           1022\n",
       "unknown            326\n",
       "Name: job, dtype: int64"
      ]
     },
     "execution_count": 15,
     "metadata": {},
     "output_type": "execute_result"
    }
   ],
   "source": [
    "data.job.value_counts()"
   ]
  },
  {
   "cell_type": "code",
   "execution_count": 16,
   "id": "3c65699d",
   "metadata": {},
   "outputs": [
    {
     "data": {
      "text/plain": [
       "<AxesSubplot:xlabel='count', ylabel='marital'>"
      ]
     },
     "execution_count": 16,
     "metadata": {},
     "output_type": "execute_result"
    },
    {
     "data": {
      "image/png": "[encoded data removed]",
      "text/plain": [
       "<Figure size 432x288 with 1 Axes>"
      ]
     },
     "metadata": {},
     "output_type": "display_data"
    }
   ],
   "source": [
    "sns.countplot(y='marital', data=data)"
   ]
  },
  {
   "cell_type": "code",
   "execution_count": 17,
   "id": "850cd018",
   "metadata": {},
   "outputs": [
    {
     "data": {
      "text/plain": [
       "married     30011\n",
       "single      13986\n",
       "divorced     5735\n",
       "Name: marital, dtype: int64"
      ]
     },
     "execution_count": 17,
     "metadata": {},
     "output_type": "execute_result"
    }
   ],
   "source": [
    "data.marital.value_counts()"
   ]
  },
  {
   "cell_type": "code",
   "execution_count": 18,
   "id": "893f9277",
   "metadata": {},
   "outputs": [
    {
     "data": {
      "text/plain": [
       "<AxesSubplot:xlabel='count', ylabel='education'>"
      ]
     },
     "execution_count": 18,
     "metadata": {},
     "output_type": "execute_result"
    },
    {
     "data": {
      "image/png": "[encoded data removed]",
      "text/plain": [
       "<Figure size 432x288 with 1 Axes>"
      ]
     },
     "metadata": {},
     "output_type": "display_data"
    }
   ],
   "source": [
    "sns.countplot(y='education', data=data)"
   ]
  },
  {
   "cell_type": "code",
   "execution_count": 20,
   "id": "00a4cf55",
   "metadata": {},
   "outputs": [
    {
     "data": {
      "text/plain": [
       "secondary    25508\n",
       "tertiary     14651\n",
       "primary       7529\n",
       "unknown       2044\n",
       "Name: education, dtype: int64"
      ]
     },
     "execution_count": 20,
     "metadata": {},
     "output_type": "execute_result"
    }
   ],
   "source": [
    "data.education.value_counts()"
   ]
  },
  {
   "cell_type": "code",
   "execution_count": 21,
   "id": "76d4196d",
   "metadata": {},
   "outputs": [
    {
     "data": {
      "text/html": [
       "<div>\n",
       "<style scoped>\n",
       "    .dataframe tbody tr th:only-of-type {\n",
       "        vertical-align: middle;\n",
       "    }\n",
       "\n",
       "    .dataframe tbody tr th {\n",
       "        vertical-align: top;\n",
       "    }\n",
       "\n",
       "    .dataframe thead th {\n",
       "        text-align: right;\n",
       "    }\n",
       "</style>\n",
       "<table border=\"1\" class=\"dataframe\">\n",
       "  <thead>\n",
       "    <tr style=\"text-align: right;\">\n",
       "      <th></th>\n",
       "      <th>age</th>\n",
       "      <th>job</th>\n",
       "      <th>marital</th>\n",
       "      <th>education</th>\n",
       "      <th>default</th>\n",
       "      <th>balance</th>\n",
       "      <th>housing</th>\n",
       "      <th>loan</th>\n",
       "      <th>contact</th>\n",
       "      <th>day</th>\n",
       "      <th>month</th>\n",
       "      <th>duration</th>\n",
       "      <th>campaign</th>\n",
       "      <th>pdays</th>\n",
       "      <th>previous</th>\n",
       "      <th>poutcome</th>\n",
       "      <th>y</th>\n",
       "    </tr>\n",
       "  </thead>\n",
       "  <tbody>\n",
       "    <tr>\n",
       "      <th>count</th>\n",
       "      <td>49732</td>\n",
       "      <td>49732</td>\n",
       "      <td>49732</td>\n",
       "      <td>49732</td>\n",
       "      <td>49732</td>\n",
       "      <td>49732</td>\n",
       "      <td>49732</td>\n",
       "      <td>49732</td>\n",
       "      <td>49732</td>\n",
       "      <td>49732</td>\n",
       "      <td>49732</td>\n",
       "      <td>49732</td>\n",
       "      <td>49732</td>\n",
       "      <td>49732</td>\n",
       "      <td>49732</td>\n",
       "      <td>49732</td>\n",
       "      <td>49732</td>\n",
       "    </tr>\n",
       "    <tr>\n",
       "      <th>unique</th>\n",
       "      <td>77</td>\n",
       "      <td>12</td>\n",
       "      <td>3</td>\n",
       "      <td>4</td>\n",
       "      <td>2</td>\n",
       "      <td>7168</td>\n",
       "      <td>2</td>\n",
       "      <td>2</td>\n",
       "      <td>3</td>\n",
       "      <td>31</td>\n",
       "      <td>12</td>\n",
       "      <td>1573</td>\n",
       "      <td>48</td>\n",
       "      <td>559</td>\n",
       "      <td>41</td>\n",
       "      <td>4</td>\n",
       "      <td>2</td>\n",
       "    </tr>\n",
       "    <tr>\n",
       "      <th>top</th>\n",
       "      <td>32</td>\n",
       "      <td>blue-collar</td>\n",
       "      <td>married</td>\n",
       "      <td>secondary</td>\n",
       "      <td>no</td>\n",
       "      <td>0</td>\n",
       "      <td>yes</td>\n",
       "      <td>no</td>\n",
       "      <td>cellular</td>\n",
       "      <td>20</td>\n",
       "      <td>may</td>\n",
       "      <td>124</td>\n",
       "      <td>1</td>\n",
       "      <td>-1</td>\n",
       "      <td>0</td>\n",
       "      <td>unknown</td>\n",
       "      <td>no</td>\n",
       "    </tr>\n",
       "    <tr>\n",
       "      <th>freq</th>\n",
       "      <td>2309</td>\n",
       "      <td>10678</td>\n",
       "      <td>30011</td>\n",
       "      <td>25508</td>\n",
       "      <td>48841</td>\n",
       "      <td>3871</td>\n",
       "      <td>27689</td>\n",
       "      <td>41797</td>\n",
       "      <td>32181</td>\n",
       "      <td>3009</td>\n",
       "      <td>15164</td>\n",
       "      <td>204</td>\n",
       "      <td>19278</td>\n",
       "      <td>40659</td>\n",
       "      <td>40659</td>\n",
       "      <td>40664</td>\n",
       "      <td>43922</td>\n",
       "    </tr>\n",
       "  </tbody>\n",
       "</table>\n",
       "</div>"
      ],
      "text/plain": [
       "          age          job  marital  education default balance housing   loan  \\\n",
       "count   49732        49732    49732      49732   49732   49732   49732  49732   \n",
       "unique     77           12        3          4       2    7168       2      2   \n",
       "top        32  blue-collar  married  secondary      no       0     yes     no   \n",
       "freq     2309        10678    30011      25508   48841    3871   27689  41797   \n",
       "\n",
       "         contact    day  month duration campaign  pdays previous poutcome  \\\n",
       "count      49732  49732  49732    49732    49732  49732    49732    49732   \n",
       "unique         3     31     12     1573       48    559       41        4   \n",
       "top     cellular     20    may      124        1     -1        0  unknown   \n",
       "freq       32181   3009  15164      204    19278  40659    40659    40664   \n",
       "\n",
       "            y  \n",
       "count   49732  \n",
       "unique      2  \n",
       "top        no  \n",
       "freq    43922  "
      ]
     },
     "execution_count": 21,
     "metadata": {},
     "output_type": "execute_result"
    }
   ],
   "source": [
    "data.describe()"
   ]
  },
  {
   "cell_type": "code",
   "execution_count": 22,
   "id": "35fcb391",
   "metadata": {},
   "outputs": [
    {
     "data": {
      "text/plain": [
       "<AxesSubplot:xlabel='count', ylabel='housing'>"
      ]
     },
     "execution_count": 22,
     "metadata": {},
     "output_type": "execute_result"
    },
    {
     "data": {
      "image/png": "[encoded data removed]",
      "text/plain": [
       "<Figure size 432x288 with 1 Axes>"
      ]
     },
     "metadata": {},
     "output_type": "display_data"
    }
   ],
   "source": [
    "sns.countplot(y='housing',data=data)"
   ]
  },
  {
   "cell_type": "code",
   "execution_count": 23,
   "id": "fab46d63",
   "metadata": {},
   "outputs": [
    {
     "data": {
      "text/plain": [
       "<AxesSubplot:xlabel='count', ylabel='duration'>"
      ]
     },
     "execution_count": 23,
     "metadata": {},
     "output_type": "execute_result"
    },
    {
     "data": {
      "image/png": "[encoded data removed]",
      "text/plain": [
       "<Figure size 432x288 with 1 Axes>"
      ]
     },
     "metadata": {},
     "output_type": "display_data"
    }
   ],
   "source": [
    "sns.countplot(y='duration',data=data)"
   ]
  },
  {
   "cell_type": "code",
   "execution_count": 24,
   "id": "4afea9c2",
   "metadata": {},
   "outputs": [
    {
     "data": {
      "text/plain": [
       "<AxesSubplot:xlabel='count', ylabel='y'>"
      ]
     },
     "execution_count": 24,
     "metadata": {},
     "output_type": "execute_result"
    },
    {
     "data": {
      "image/png": "[encoded data removed]",
      "text/plain": [
       "<Figure size 432x288 with 1 Axes>"
      ]
     },
     "metadata": {},
     "output_type": "display_data"
    }
   ],
   "source": [
    "sns.countplot(y='y', data=data)"
   ]
  },
  {
   "cell_type": "code",
   "execution_count": 25,
   "id": "c7cd226a",
   "metadata": {},
   "outputs": [
    {
     "data": {
      "text/html": [
       "<div>\n",
       "<style scoped>\n",
       "    .dataframe tbody tr th:only-of-type {\n",
       "        vertical-align: middle;\n",
       "    }\n",
       "\n",
       "    .dataframe tbody tr th {\n",
       "        vertical-align: top;\n",
       "    }\n",
       "\n",
       "    .dataframe thead th {\n",
       "        text-align: right;\n",
       "    }\n",
       "</style>\n",
       "<table border=\"1\" class=\"dataframe\">\n",
       "  <thead>\n",
       "    <tr style=\"text-align: right;\">\n",
       "      <th></th>\n",
       "      <th>age</th>\n",
       "      <th>job</th>\n",
       "      <th>marital</th>\n",
       "      <th>education</th>\n",
       "      <th>default</th>\n",
       "      <th>balance</th>\n",
       "      <th>housing</th>\n",
       "      <th>loan</th>\n",
       "      <th>contact</th>\n",
       "      <th>day</th>\n",
       "      <th>month</th>\n",
       "      <th>duration</th>\n",
       "      <th>campaign</th>\n",
       "      <th>pdays</th>\n",
       "      <th>previous</th>\n",
       "      <th>poutcome</th>\n",
       "      <th>y</th>\n",
       "    </tr>\n",
       "  </thead>\n",
       "  <tbody>\n",
       "    <tr>\n",
       "      <th>0</th>\n",
       "      <td>58</td>\n",
       "      <td>management</td>\n",
       "      <td>married</td>\n",
       "      <td>tertiary</td>\n",
       "      <td>no</td>\n",
       "      <td>2143</td>\n",
       "      <td>yes</td>\n",
       "      <td>no</td>\n",
       "      <td>unknown</td>\n",
       "      <td>5</td>\n",
       "      <td>may</td>\n",
       "      <td>261</td>\n",
       "      <td>1</td>\n",
       "      <td>-1</td>\n",
       "      <td>0</td>\n",
       "      <td>unknown</td>\n",
       "      <td>no</td>\n",
       "    </tr>\n",
       "    <tr>\n",
       "      <th>1</th>\n",
       "      <td>44</td>\n",
       "      <td>technician</td>\n",
       "      <td>single</td>\n",
       "      <td>secondary</td>\n",
       "      <td>no</td>\n",
       "      <td>29</td>\n",
       "      <td>yes</td>\n",
       "      <td>no</td>\n",
       "      <td>unknown</td>\n",
       "      <td>5</td>\n",
       "      <td>may</td>\n",
       "      <td>151</td>\n",
       "      <td>1</td>\n",
       "      <td>-1</td>\n",
       "      <td>0</td>\n",
       "      <td>unknown</td>\n",
       "      <td>no</td>\n",
       "    </tr>\n",
       "    <tr>\n",
       "      <th>2</th>\n",
       "      <td>33</td>\n",
       "      <td>entrepreneur</td>\n",
       "      <td>married</td>\n",
       "      <td>secondary</td>\n",
       "      <td>no</td>\n",
       "      <td>2</td>\n",
       "      <td>yes</td>\n",
       "      <td>yes</td>\n",
       "      <td>unknown</td>\n",
       "      <td>5</td>\n",
       "      <td>may</td>\n",
       "      <td>76</td>\n",
       "      <td>1</td>\n",
       "      <td>-1</td>\n",
       "      <td>0</td>\n",
       "      <td>unknown</td>\n",
       "      <td>no</td>\n",
       "    </tr>\n",
       "    <tr>\n",
       "      <th>3</th>\n",
       "      <td>47</td>\n",
       "      <td>blue-collar</td>\n",
       "      <td>married</td>\n",
       "      <td>unknown</td>\n",
       "      <td>no</td>\n",
       "      <td>1506</td>\n",
       "      <td>yes</td>\n",
       "      <td>no</td>\n",
       "      <td>unknown</td>\n",
       "      <td>5</td>\n",
       "      <td>may</td>\n",
       "      <td>92</td>\n",
       "      <td>1</td>\n",
       "      <td>-1</td>\n",
       "      <td>0</td>\n",
       "      <td>unknown</td>\n",
       "      <td>no</td>\n",
       "    </tr>\n",
       "    <tr>\n",
       "      <th>4</th>\n",
       "      <td>33</td>\n",
       "      <td>unknown</td>\n",
       "      <td>single</td>\n",
       "      <td>unknown</td>\n",
       "      <td>no</td>\n",
       "      <td>1</td>\n",
       "      <td>no</td>\n",
       "      <td>no</td>\n",
       "      <td>unknown</td>\n",
       "      <td>5</td>\n",
       "      <td>may</td>\n",
       "      <td>198</td>\n",
       "      <td>1</td>\n",
       "      <td>-1</td>\n",
       "      <td>0</td>\n",
       "      <td>unknown</td>\n",
       "      <td>no</td>\n",
       "    </tr>\n",
       "    <tr>\n",
       "      <th>5</th>\n",
       "      <td>35</td>\n",
       "      <td>management</td>\n",
       "      <td>married</td>\n",
       "      <td>tertiary</td>\n",
       "      <td>no</td>\n",
       "      <td>231</td>\n",
       "      <td>yes</td>\n",
       "      <td>no</td>\n",
       "      <td>unknown</td>\n",
       "      <td>5</td>\n",
       "      <td>may</td>\n",
       "      <td>139</td>\n",
       "      <td>1</td>\n",
       "      <td>-1</td>\n",
       "      <td>0</td>\n",
       "      <td>unknown</td>\n",
       "      <td>no</td>\n",
       "    </tr>\n",
       "    <tr>\n",
       "      <th>6</th>\n",
       "      <td>28</td>\n",
       "      <td>management</td>\n",
       "      <td>single</td>\n",
       "      <td>tertiary</td>\n",
       "      <td>no</td>\n",
       "      <td>447</td>\n",
       "      <td>yes</td>\n",
       "      <td>yes</td>\n",
       "      <td>unknown</td>\n",
       "      <td>5</td>\n",
       "      <td>may</td>\n",
       "      <td>217</td>\n",
       "      <td>1</td>\n",
       "      <td>-1</td>\n",
       "      <td>0</td>\n",
       "      <td>unknown</td>\n",
       "      <td>no</td>\n",
       "    </tr>\n",
       "    <tr>\n",
       "      <th>7</th>\n",
       "      <td>42</td>\n",
       "      <td>entrepreneur</td>\n",
       "      <td>divorced</td>\n",
       "      <td>tertiary</td>\n",
       "      <td>yes</td>\n",
       "      <td>2</td>\n",
       "      <td>yes</td>\n",
       "      <td>no</td>\n",
       "      <td>unknown</td>\n",
       "      <td>5</td>\n",
       "      <td>may</td>\n",
       "      <td>380</td>\n",
       "      <td>1</td>\n",
       "      <td>-1</td>\n",
       "      <td>0</td>\n",
       "      <td>unknown</td>\n",
       "      <td>no</td>\n",
       "    </tr>\n",
       "    <tr>\n",
       "      <th>8</th>\n",
       "      <td>58</td>\n",
       "      <td>retired</td>\n",
       "      <td>married</td>\n",
       "      <td>primary</td>\n",
       "      <td>no</td>\n",
       "      <td>121</td>\n",
       "      <td>yes</td>\n",
       "      <td>no</td>\n",
       "      <td>unknown</td>\n",
       "      <td>5</td>\n",
       "      <td>may</td>\n",
       "      <td>50</td>\n",
       "      <td>1</td>\n",
       "      <td>-1</td>\n",
       "      <td>0</td>\n",
       "      <td>unknown</td>\n",
       "      <td>no</td>\n",
       "    </tr>\n",
       "    <tr>\n",
       "      <th>9</th>\n",
       "      <td>43</td>\n",
       "      <td>technician</td>\n",
       "      <td>single</td>\n",
       "      <td>secondary</td>\n",
       "      <td>no</td>\n",
       "      <td>593</td>\n",
       "      <td>yes</td>\n",
       "      <td>no</td>\n",
       "      <td>unknown</td>\n",
       "      <td>5</td>\n",
       "      <td>may</td>\n",
       "      <td>55</td>\n",
       "      <td>1</td>\n",
       "      <td>-1</td>\n",
       "      <td>0</td>\n",
       "      <td>unknown</td>\n",
       "      <td>no</td>\n",
       "    </tr>\n",
       "  </tbody>\n",
       "</table>\n",
       "</div>"
      ],
      "text/plain": [
       "  age           job   marital  education default balance housing loan  \\\n",
       "0  58    management   married   tertiary      no    2143     yes   no   \n",
       "1  44    technician    single  secondary      no      29     yes   no   \n",
       "2  33  entrepreneur   married  secondary      no       2     yes  yes   \n",
       "3  47   blue-collar   married    unknown      no    1506     yes   no   \n",
       "4  33       unknown    single    unknown      no       1      no   no   \n",
       "5  35    management   married   tertiary      no     231     yes   no   \n",
       "6  28    management    single   tertiary      no     447     yes  yes   \n",
       "7  42  entrepreneur  divorced   tertiary     yes       2     yes   no   \n",
       "8  58       retired   married    primary      no     121     yes   no   \n",
       "9  43    technician    single  secondary      no     593     yes   no   \n",
       "\n",
       "   contact day month duration campaign pdays previous poutcome   y  \n",
       "0  unknown   5   may      261        1    -1        0  unknown  no  \n",
       "1  unknown   5   may      151        1    -1        0  unknown  no  \n",
       "2  unknown   5   may       76        1    -1        0  unknown  no  \n",
       "3  unknown   5   may       92        1    -1        0  unknown  no  \n",
       "4  unknown   5   may      198        1    -1        0  unknown  no  \n",
       "5  unknown   5   may      139        1    -1        0  unknown  no  \n",
       "6  unknown   5   may      217        1    -1        0  unknown  no  \n",
       "7  unknown   5   may      380        1    -1        0  unknown  no  \n",
       "8  unknown   5   may       50        1    -1        0  unknown  no  \n",
       "9  unknown   5   may       55        1    -1        0  unknown  no  "
      ]
     },
     "execution_count": 25,
     "metadata": {},
     "output_type": "execute_result"
    }
   ],
   "source": [
    "data.head(10)"
   ]
  },
  {
   "cell_type": "code",
   "execution_count": 26,
   "id": "781f5319",
   "metadata": {},
   "outputs": [],
   "source": [
    "data = categorize(data)\n",
    "data = data._convert(numeric=True)"
   ]
  },
  {
   "cell_type": "code",
   "execution_count": 27,
   "id": "95572e59",
   "metadata": {},
   "outputs": [
    {
     "data": {
      "text/plain": [
       "<AxesSubplot:xlabel='y', ylabel='duration'>"
      ]
     },
     "execution_count": 27,
     "metadata": {},
     "output_type": "execute_result"
    },
    {
     "data": {
      "image/png": "[encoded data removed]",
      "text/plain": [
       "<Figure size 432x288 with 1 Axes>"
      ]
     },
     "metadata": {},
     "output_type": "display_data"
    }
   ],
   "source": [
    "sns.boxplot(x='y', y='duration', data=data)"
   ]
  },
  {
   "cell_type": "code",
   "execution_count": 28,
   "id": "e07e45f9",
   "metadata": {},
   "outputs": [
    {
     "data": {
      "text/plain": [
       "<AxesSubplot:xlabel='y', ylabel='education'>"
      ]
     },
     "execution_count": 28,
     "metadata": {},
     "output_type": "execute_result"
    },
    {
     "data": {
      "image/png": "[encoded data removed]",
      "text/plain": [
       "<Figure size 432x288 with 1 Axes>"
      ]
     },
     "metadata": {},
     "output_type": "display_data"
    }
   ],
   "source": [
    "sns.boxplot(x='y', y='education', data=data)"
   ]
  },
  {
   "cell_type": "code",
   "execution_count": 29,
   "id": "5bc9cefb",
   "metadata": {},
   "outputs": [
    {
     "data": {
      "text/plain": [
       "<AxesSubplot:xlabel='y', ylabel='education'>"
      ]
     },
     "execution_count": 29,
     "metadata": {},
     "output_type": "execute_result"
    },
    {
     "data": {
      "image/png": "[encoded data removed]",
      "text/plain": [
       "<Figure size 432x288 with 1 Axes>"
      ]
     },
     "metadata": {},
     "output_type": "display_data"
    }
   ],
   "source": [
    "sns.boxplot(x='y', y='education', data=data)"
   ]
  },
  {
   "cell_type": "code",
   "execution_count": 30,
   "id": "6bbf2c01",
   "metadata": {},
   "outputs": [
    {
     "data": {
      "text/plain": [
       "<AxesSubplot:xlabel='y', ylabel='age'>"
      ]
     },
     "execution_count": 30,
     "metadata": {},
     "output_type": "execute_result"
    },
    {
     "data": {
      "image/png": "[encoded data removed]",
      "text/plain": [
       "<Figure size 432x288 with 1 Axes>"
      ]
     },
     "metadata": {},
     "output_type": "display_data"
    }
   ],
   "source": [
    "sns.boxplot(x='y',y='age',data=data)"
   ]
  },
  {
   "cell_type": "code",
   "execution_count": 31,
   "id": "935eb0fc",
   "metadata": {},
   "outputs": [
    {
     "name": "stderr",
     "output_type": "stream",
     "text": [
      "C:\\Users\\jayan\\anaconda3\\lib\\site-packages\\seaborn\\_decorators.py:36: FutureWarning: Pass the following variables as keyword args: x, y. From version 0.12, the only valid positional argument will be `data`, and passing other arguments without an explicit keyword will result in an error or misinterpretation.\n",
      "  warnings.warn(\n"
     ]
    },
    {
     "data": {
      "text/plain": [
       "<AxesSubplot:xlabel='y', ylabel='job'>"
      ]
     },
     "execution_count": 31,
     "metadata": {},
     "output_type": "execute_result"
    },
    {
     "data": {
      "image/png": "[encoded data removed]",
      "text/plain": [
       "<Figure size 432x288 with 1 Axes>"
      ]
     },
     "metadata": {},
     "output_type": "display_data"
    }
   ],
   "source": [
    "sns.boxplot(data['y'],data['job'])"
   ]
  },
  {
   "cell_type": "code",
   "execution_count": 32,
   "id": "cfcfd32c",
   "metadata": {},
   "outputs": [
    {
     "name": "stderr",
     "output_type": "stream",
     "text": [
      "C:\\Users\\jayan\\anaconda3\\lib\\site-packages\\seaborn\\_decorators.py:36: FutureWarning: Pass the following variables as keyword args: x, y. From version 0.12, the only valid positional argument will be `data`, and passing other arguments without an explicit keyword will result in an error or misinterpretation.\n",
      "  warnings.warn(\n"
     ]
    },
    {
     "data": {
      "text/plain": [
       "<AxesSubplot:xlabel='y', ylabel='campaign'>"
      ]
     },
     "execution_count": 32,
     "metadata": {},
     "output_type": "execute_result"
    },
    {
     "data": {
      "image/png": "[encoded data removed]",
      "text/plain": [
       "<Figure size 432x288 with 1 Axes>"
      ]
     },
     "metadata": {},
     "output_type": "display_data"
    }
   ],
   "source": [
    "sns.boxplot(data['y'],data['campaign'])"
   ]
  },
  {
   "cell_type": "code",
   "execution_count": 33,
   "id": "0884ea53",
   "metadata": {},
   "outputs": [],
   "source": [
    "def remove_outliers(df, column , minimum, maximum):\n",
    "    col_values = df[column].values\n",
    "    df[column] = np.where(np.logical_or(col_values<minimum, col_values>maximum), col_values.mean(), col_values)\n",
    "    return df"
   ]
  },
  {
   "cell_type": "code",
   "execution_count": 34,
   "id": "75058028",
   "metadata": {},
   "outputs": [],
   "source": [
    "min_val = data[\"duration\"].min()\n",
    "max_val = 1500\n",
    "data = remove_outliers(df=data, column='duration' , minimum=min_val, maximum=max_val)\n",
    "\n",
    "min_val = data[\"age\"].min()\n",
    "max_val = 80\n",
    "data = remove_outliers(df=data, column='age' , minimum=min_val, maximum=max_val)\n",
    "\n",
    "min_val = data[\"campaign\"].min()\n",
    "max_val = 6\n",
    "data = remove_outliers(df=data, column='campaign' , minimum=min_val, maximum=max_val)"
   ]
  },
  {
   "cell_type": "code",
   "execution_count": 35,
   "id": "a0d89190",
   "metadata": {},
   "outputs": [
    {
     "data": {
      "text/plain": [
       "<AxesSubplot:xlabel='education', ylabel='count'>"
      ]
     },
     "execution_count": 35,
     "metadata": {},
     "output_type": "execute_result"
    },
    {
     "data": {
      "image/png": "[encoded data removed]",
      "text/plain": [
       "<Figure size 432x288 with 1 Axes>"
      ]
     },
     "metadata": {},
     "output_type": "display_data"
    }
   ],
   "source": [
    "sns.countplot(x='education',hue='y',data=data)"
   ]
  },
  {
   "cell_type": "code",
   "execution_count": 36,
   "id": "50944098",
   "metadata": {},
   "outputs": [
    {
     "data": {
      "text/plain": [
       "<AxesSubplot:xlabel='default', ylabel='count'>"
      ]
     },
     "execution_count": 36,
     "metadata": {},
     "output_type": "execute_result"
    },
    {
     "data": {
      "image/png": "[encoded data removed]",
      "text/plain": [
       "<Figure size 432x288 with 1 Axes>"
      ]
     },
     "metadata": {},
     "output_type": "display_data"
    }
   ],
   "source": [
    "sns.countplot(x='default',hue='y',data=data)"
   ]
  },
  {
   "cell_type": "code",
   "execution_count": 37,
   "id": "7169b681",
   "metadata": {},
   "outputs": [],
   "source": [
    "data = data.drop('default',axis=1)"
   ]
  },
  {
   "cell_type": "code",
   "execution_count": 38,
   "id": "7f19ad71",
   "metadata": {},
   "outputs": [
    {
     "data": {
      "text/plain": [
       "<AxesSubplot:xlabel='poutcome', ylabel='count'>"
      ]
     },
     "execution_count": 38,
     "metadata": {},
     "output_type": "execute_result"
    },
    {
     "data": {
      "image/png": "[encoded data removed]",
      "text/plain": [
       "<Figure size 432x288 with 1 Axes>"
      ]
     },
     "metadata": {},
     "output_type": "display_data"
    }
   ],
   "source": [
    "sns.countplot(x='poutcome',hue='y',data=data)"
   ]
  },
  {
   "cell_type": "code",
   "execution_count": 39,
   "id": "88f806f8",
   "metadata": {},
   "outputs": [],
   "source": [
    "data = data.drop('poutcome',axis=1)"
   ]
  },
  {
   "cell_type": "code",
   "execution_count": 40,
   "id": "e9194d89",
   "metadata": {},
   "outputs": [
    {
     "data": {
      "text/plain": [
       "<AxesSubplot:xlabel='loan', ylabel='count'>"
      ]
     },
     "execution_count": 40,
     "metadata": {},
     "output_type": "execute_result"
    },
    {
     "data": {
      "image/png": "[encoded data removed]",
      "text/plain": [
       "<Figure size 432x288 with 1 Axes>"
      ]
     },
     "metadata": {},
     "output_type": "display_data"
    }
   ],
   "source": [
    "sns.countplot(x='loan',hue='y',data=data)"
   ]
  },
  {
   "cell_type": "code",
   "execution_count": 41,
   "id": "309aeb8a",
   "metadata": {},
   "outputs": [
    {
     "data": {
      "text/plain": [
       "<AxesSubplot:xlabel='contact', ylabel='count'>"
      ]
     },
     "execution_count": 41,
     "metadata": {},
     "output_type": "execute_result"
    },
    {
     "data": {
      "image/png": "[encoded data removed]",
      "text/plain": [
       "<Figure size 432x288 with 1 Axes>"
      ]
     },
     "metadata": {},
     "output_type": "display_data"
    }
   ],
   "source": [
    "sns.countplot(x='contact',hue='y',data=data)"
   ]
  },
  {
   "cell_type": "code",
   "execution_count": 42,
   "id": "845eafe1",
   "metadata": {},
   "outputs": [],
   "source": [
    "data=data.drop('contact',axis=1)"
   ]
  },
  {
   "cell_type": "code",
   "execution_count": 43,
   "id": "521dfaae",
   "metadata": {},
   "outputs": [
    {
     "name": "stdout",
     "output_type": "stream",
     "text": [
      "<class 'pandas.core.frame.DataFrame'>\n",
      "Int64Index: 49732 entries, 0 to 4520\n",
      "Data columns (total 14 columns):\n",
      " #   Column     Non-Null Count  Dtype  \n",
      "---  ------     --------------  -----  \n",
      " 0   age        49732 non-null  float64\n",
      " 1   job        49732 non-null  int32  \n",
      " 2   marital    49732 non-null  int32  \n",
      " 3   education  49732 non-null  int32  \n",
      " 4   balance    49732 non-null  int64  \n",
      " 5   housing    49732 non-null  int32  \n",
      " 6   loan       49732 non-null  int32  \n",
      " 7   day        49732 non-null  int32  \n",
      " 8   month      49732 non-null  int32  \n",
      " 9   duration   49732 non-null  float64\n",
      " 10  campaign   49732 non-null  float64\n",
      " 11  pdays      49732 non-null  int64  \n",
      " 12  previous   49732 non-null  int64  \n",
      " 13  y          49732 non-null  int32  \n",
      "dtypes: float64(3), int32(8), int64(3)\n",
      "memory usage: 5.2 MB\n"
     ]
    }
   ],
   "source": [
    "data.info()"
   ]
  },
  {
   "cell_type": "code",
   "execution_count": 44,
   "id": "bd9f338d",
   "metadata": {},
   "outputs": [
    {
     "data": {
      "text/html": [
       "<div>\n",
       "<style scoped>\n",
       "    .dataframe tbody tr th:only-of-type {\n",
       "        vertical-align: middle;\n",
       "    }\n",
       "\n",
       "    .dataframe tbody tr th {\n",
       "        vertical-align: top;\n",
       "    }\n",
       "\n",
       "    .dataframe thead th {\n",
       "        text-align: right;\n",
       "    }\n",
       "</style>\n",
       "<table border=\"1\" class=\"dataframe\">\n",
       "  <thead>\n",
       "    <tr style=\"text-align: right;\">\n",
       "      <th></th>\n",
       "      <th>age</th>\n",
       "      <th>job</th>\n",
       "      <th>marital</th>\n",
       "      <th>education</th>\n",
       "      <th>balance</th>\n",
       "      <th>housing</th>\n",
       "      <th>loan</th>\n",
       "      <th>day</th>\n",
       "      <th>month</th>\n",
       "      <th>duration</th>\n",
       "      <th>campaign</th>\n",
       "      <th>pdays</th>\n",
       "      <th>previous</th>\n",
       "      <th>y</th>\n",
       "    </tr>\n",
       "  </thead>\n",
       "  <tbody>\n",
       "    <tr>\n",
       "      <th>0</th>\n",
       "      <td>58.0</td>\n",
       "      <td>4</td>\n",
       "      <td>1</td>\n",
       "      <td>2</td>\n",
       "      <td>2143</td>\n",
       "      <td>1</td>\n",
       "      <td>0</td>\n",
       "      <td>26</td>\n",
       "      <td>8</td>\n",
       "      <td>261.0</td>\n",
       "      <td>1.0</td>\n",
       "      <td>-1</td>\n",
       "      <td>0</td>\n",
       "      <td>0</td>\n",
       "    </tr>\n",
       "    <tr>\n",
       "      <th>1</th>\n",
       "      <td>44.0</td>\n",
       "      <td>9</td>\n",
       "      <td>2</td>\n",
       "      <td>1</td>\n",
       "      <td>29</td>\n",
       "      <td>1</td>\n",
       "      <td>0</td>\n",
       "      <td>26</td>\n",
       "      <td>8</td>\n",
       "      <td>151.0</td>\n",
       "      <td>1.0</td>\n",
       "      <td>-1</td>\n",
       "      <td>0</td>\n",
       "      <td>0</td>\n",
       "    </tr>\n",
       "    <tr>\n",
       "      <th>2</th>\n",
       "      <td>33.0</td>\n",
       "      <td>2</td>\n",
       "      <td>1</td>\n",
       "      <td>1</td>\n",
       "      <td>2</td>\n",
       "      <td>1</td>\n",
       "      <td>1</td>\n",
       "      <td>26</td>\n",
       "      <td>8</td>\n",
       "      <td>76.0</td>\n",
       "      <td>1.0</td>\n",
       "      <td>-1</td>\n",
       "      <td>0</td>\n",
       "      <td>0</td>\n",
       "    </tr>\n",
       "    <tr>\n",
       "      <th>3</th>\n",
       "      <td>47.0</td>\n",
       "      <td>1</td>\n",
       "      <td>1</td>\n",
       "      <td>3</td>\n",
       "      <td>1506</td>\n",
       "      <td>1</td>\n",
       "      <td>0</td>\n",
       "      <td>26</td>\n",
       "      <td>8</td>\n",
       "      <td>92.0</td>\n",
       "      <td>1.0</td>\n",
       "      <td>-1</td>\n",
       "      <td>0</td>\n",
       "      <td>0</td>\n",
       "    </tr>\n",
       "    <tr>\n",
       "      <th>4</th>\n",
       "      <td>33.0</td>\n",
       "      <td>11</td>\n",
       "      <td>2</td>\n",
       "      <td>3</td>\n",
       "      <td>1</td>\n",
       "      <td>0</td>\n",
       "      <td>0</td>\n",
       "      <td>26</td>\n",
       "      <td>8</td>\n",
       "      <td>198.0</td>\n",
       "      <td>1.0</td>\n",
       "      <td>-1</td>\n",
       "      <td>0</td>\n",
       "      <td>0</td>\n",
       "    </tr>\n",
       "  </tbody>\n",
       "</table>\n",
       "</div>"
      ],
      "text/plain": [
       "    age  job  marital  education  balance  housing  loan  day  month  \\\n",
       "0  58.0    4        1          2     2143        1     0   26      8   \n",
       "1  44.0    9        2          1       29        1     0   26      8   \n",
       "2  33.0    2        1          1        2        1     1   26      8   \n",
       "3  47.0    1        1          3     1506        1     0   26      8   \n",
       "4  33.0   11        2          3        1        0     0   26      8   \n",
       "\n",
       "   duration  campaign  pdays  previous  y  \n",
       "0     261.0       1.0     -1         0  0  \n",
       "1     151.0       1.0     -1         0  0  \n",
       "2      76.0       1.0     -1         0  0  \n",
       "3      92.0       1.0     -1         0  0  \n",
       "4     198.0       1.0     -1         0  0  "
      ]
     },
     "execution_count": 44,
     "metadata": {},
     "output_type": "execute_result"
    }
   ],
   "source": [
    "data.head()"
   ]
  },
  {
   "cell_type": "code",
   "execution_count": 45,
   "id": "5568a456",
   "metadata": {},
   "outputs": [],
   "source": [
    "X = data.drop('y',axis = 1).values\n",
    "y = data['y'].values\n",
    "X_train, X_test, Y_train, Y_test = train_test_split(X, y, test_size=0.25, random_state=42)"
   ]
  },
  {
   "cell_type": "code",
   "execution_count": 46,
   "id": "0e65d6ba",
   "metadata": {},
   "outputs": [],
   "source": [
    "scaler = StandardScaler()\n",
    "scaler.fit(X_train)\n",
    "X_train = scaler.fit_transform(X_train)"
   ]
  },
  {
   "cell_type": "code",
   "execution_count": 47,
   "id": "02d3a22a",
   "metadata": {},
   "outputs": [],
   "source": [
    "pca = PCA(n_components=10)\n",
    "pca.fit(X_train)\n",
    "X_train = pca.fit_transform(X_train)"
   ]
  },
  {
   "cell_type": "code",
   "execution_count": 48,
   "id": "980a82a5",
   "metadata": {},
   "outputs": [
    {
     "data": {
      "text/plain": [
       "(37299, 10)"
      ]
     },
     "execution_count": 48,
     "metadata": {},
     "output_type": "execute_result"
    }
   ],
   "source": [
    "X_train.shape"
   ]
  },
  {
   "cell_type": "code",
   "execution_count": 49,
   "id": "417ec2b4",
   "metadata": {},
   "outputs": [],
   "source": [
    "models = []\n",
    "models.append(('LR', LogisticRegression()))\n",
    "models.append(('KNN', KNeighborsClassifier()))\n",
    "models.append(('Decison-Tree', DecisionTreeClassifier()))\n",
    "models.append(('SVM', SVC()))\n",
    "models.append(('RandForest',RandomForestClassifier(max_depth = 8, n_estimators = 120)))"
   ]
  },
  {
   "cell_type": "code",
   "execution_count": null,
   "id": "7be0861c",
   "metadata": {},
   "outputs": [],
   "source": [
    "results = []\n",
    "names = []\n",
    "for name, model in models:\n",
    "    kfold = model_selection.KFold(n_splits=10, random_state=None)\n",
    "    cv_results = model_selection.cross_val_score(model, X_train, Y_train, cv=kfold, scoring='accuracy')\n",
    "    results.append(cv_results)\n",
    "    names.append(name)\n",
    "    msg = \"{}: {}\".format(name, cv_results.mean())\n",
    "    print(msg)"
   ]
  },
  {
   "cell_type": "code",
   "execution_count": null,
   "id": "fc047845",
   "metadata": {},
   "outputs": [],
   "source": [
    "sns.set(rc={'figure.figsize':(10,8)})\n",
    "sns.boxplot(names,results)"
   ]
  },
  {
   "cell_type": "code",
   "execution_count": null,
   "id": "ab9230b4",
   "metadata": {},
   "outputs": [],
   "source": [
    "scaler.fit(X_test)\n",
    "X_test = scaler.fit_transform(X_test)"
   ]
  },
  {
   "cell_type": "code",
   "execution_count": null,
   "id": "3175b207",
   "metadata": {},
   "outputs": [],
   "source": [
    "pca.fit(X_test)\n",
    "X_test = pca.fit_transform(X_test)"
   ]
  },
  {
   "cell_type": "code",
   "execution_count": null,
   "id": "907a1cdf",
   "metadata": {},
   "outputs": [],
   "source": [
    "lr = LogisticRegression()\n",
    "lr.fit(X_train, Y_train)\n",
    "predictions = lr.predict(X_test)\n",
    "print(\"Accuracy : \", accuracy_score(Y_test, predictions))\n",
    "cf_matrix=confusion_matrix(Y_test, predictions)\n",
    "print(\"Confusion Matrix : \\n\",cf_matrix)\n",
    "print(\"Classification Report: \\n\",classification_report(Y_test, predictions))\n",
    "sns.heatmap(cf_matrix, annot=True)"
   ]
  },
  {
   "cell_type": "code",
   "execution_count": null,
   "id": "df42d12e",
   "metadata": {},
   "outputs": [],
   "source": [
    "dt = DecisionTreeClassifier()\n",
    "dt.fit(X_train, Y_train)\n",
    "predictions = dt.predict(X_test)\n",
    "print(\"Accuracy : \", accuracy_score(Y_test, predictions))\n",
    "print(\"Confusion Matrix : \\n\",confusion_matrix(Y_test, predictions))\n",
    "print(\"Classification Report: \\n\",classification_report(Y_test, predictions))"
   ]
  },
  {
   "cell_type": "code",
   "execution_count": null,
   "id": "5440a1ca",
   "metadata": {},
   "outputs": [],
   "source": [
    "kn = KNeighborsClassifier()\n",
    "kn.fit(X_train, Y_train)\n",
    "predictions = kn.predict(X_test)\n",
    "print(\"Accuracy : \", accuracy_score(Y_test, predictions))\n",
    "print(\"Confusion Matrix : \\n\",confusion_matrix(Y_test, predictions))\n",
    "print(\"Classification Report: \\n\",classification_report(Y_test, predictions))\n"
   ]
  },
  {
   "cell_type": "code",
   "execution_count": 52,
   "id": "8447e2a6",
   "metadata": {},
   "outputs": [
    {
     "ename": "ValueError",
     "evalue": "X.shape[1] = 13 should be equal to 10, the number of features at training time",
     "output_type": "error",
     "traceback": [
      "\u001b[1;31m---------------------------------------------------------------------------\u001b[0m",
      "\u001b[1;31mValueError\u001b[0m                                Traceback (most recent call last)",
      "\u001b[1;32m<ipython-input-52-26ff3301c237>\u001b[0m in \u001b[0;36m<module>\u001b[1;34m\u001b[0m\n\u001b[0;32m      1\u001b[0m \u001b[0msv\u001b[0m \u001b[1;33m=\u001b[0m  \u001b[0mSVC\u001b[0m\u001b[1;33m(\u001b[0m\u001b[1;33m)\u001b[0m\u001b[1;33m\u001b[0m\u001b[1;33m\u001b[0m\u001b[0m\n\u001b[0;32m      2\u001b[0m \u001b[0msv\u001b[0m\u001b[1;33m.\u001b[0m\u001b[0mfit\u001b[0m\u001b[1;33m(\u001b[0m\u001b[0mX_train\u001b[0m\u001b[1;33m,\u001b[0m \u001b[0mY_train\u001b[0m\u001b[1;33m)\u001b[0m\u001b[1;33m\u001b[0m\u001b[1;33m\u001b[0m\u001b[0m\n\u001b[1;32m----> 3\u001b[1;33m \u001b[0mpredictions\u001b[0m \u001b[1;33m=\u001b[0m \u001b[0msv\u001b[0m\u001b[1;33m.\u001b[0m\u001b[0mpredict\u001b[0m\u001b[1;33m(\u001b[0m\u001b[0mX_test\u001b[0m\u001b[1;33m)\u001b[0m\u001b[1;33m\u001b[0m\u001b[1;33m\u001b[0m\u001b[0m\n\u001b[0m\u001b[0;32m      4\u001b[0m \u001b[0mprint\u001b[0m\u001b[1;33m(\u001b[0m\u001b[1;34m\"Accuracy : \"\u001b[0m\u001b[1;33m,\u001b[0m \u001b[0maccuracy_score\u001b[0m\u001b[1;33m(\u001b[0m\u001b[0mY_test\u001b[0m\u001b[1;33m,\u001b[0m \u001b[0mpredictions\u001b[0m\u001b[1;33m)\u001b[0m\u001b[1;33m)\u001b[0m\u001b[1;33m\u001b[0m\u001b[1;33m\u001b[0m\u001b[0m\n\u001b[0;32m      5\u001b[0m \u001b[0mprint\u001b[0m\u001b[1;33m(\u001b[0m\u001b[1;34m\"Confusion Matrix : \\n\"\u001b[0m\u001b[1;33m,\u001b[0m\u001b[0mconfusion_matrix\u001b[0m\u001b[1;33m(\u001b[0m\u001b[0mY_test\u001b[0m\u001b[1;33m,\u001b[0m \u001b[0mpredictions\u001b[0m\u001b[1;33m)\u001b[0m\u001b[1;33m)\u001b[0m\u001b[1;33m\u001b[0m\u001b[1;33m\u001b[0m\u001b[0m\n",
      "\u001b[1;32m~\\anaconda3\\lib\\site-packages\\sklearn\\svm\\_base.py\u001b[0m in \u001b[0;36mpredict\u001b[1;34m(self, X)\u001b[0m\n\u001b[0;32m    622\u001b[0m             \u001b[0my\u001b[0m \u001b[1;33m=\u001b[0m \u001b[0mnp\u001b[0m\u001b[1;33m.\u001b[0m\u001b[0margmax\u001b[0m\u001b[1;33m(\u001b[0m\u001b[0mself\u001b[0m\u001b[1;33m.\u001b[0m\u001b[0mdecision_function\u001b[0m\u001b[1;33m(\u001b[0m\u001b[0mX\u001b[0m\u001b[1;33m)\u001b[0m\u001b[1;33m,\u001b[0m \u001b[0maxis\u001b[0m\u001b[1;33m=\u001b[0m\u001b[1;36m1\u001b[0m\u001b[1;33m)\u001b[0m\u001b[1;33m\u001b[0m\u001b[1;33m\u001b[0m\u001b[0m\n\u001b[0;32m    623\u001b[0m         \u001b[1;32melse\u001b[0m\u001b[1;33m:\u001b[0m\u001b[1;33m\u001b[0m\u001b[1;33m\u001b[0m\u001b[0m\n\u001b[1;32m--> 624\u001b[1;33m             \u001b[0my\u001b[0m \u001b[1;33m=\u001b[0m \u001b[0msuper\u001b[0m\u001b[1;33m(\u001b[0m\u001b[1;33m)\u001b[0m\u001b[1;33m.\u001b[0m\u001b[0mpredict\u001b[0m\u001b[1;33m(\u001b[0m\u001b[0mX\u001b[0m\u001b[1;33m)\u001b[0m\u001b[1;33m\u001b[0m\u001b[1;33m\u001b[0m\u001b[0m\n\u001b[0m\u001b[0;32m    625\u001b[0m         \u001b[1;32mreturn\u001b[0m \u001b[0mself\u001b[0m\u001b[1;33m.\u001b[0m\u001b[0mclasses_\u001b[0m\u001b[1;33m.\u001b[0m\u001b[0mtake\u001b[0m\u001b[1;33m(\u001b[0m\u001b[0mnp\u001b[0m\u001b[1;33m.\u001b[0m\u001b[0masarray\u001b[0m\u001b[1;33m(\u001b[0m\u001b[0my\u001b[0m\u001b[1;33m,\u001b[0m \u001b[0mdtype\u001b[0m\u001b[1;33m=\u001b[0m\u001b[0mnp\u001b[0m\u001b[1;33m.\u001b[0m\u001b[0mintp\u001b[0m\u001b[1;33m)\u001b[0m\u001b[1;33m)\u001b[0m\u001b[1;33m\u001b[0m\u001b[1;33m\u001b[0m\u001b[0m\n\u001b[0;32m    626\u001b[0m \u001b[1;33m\u001b[0m\u001b[0m\n",
      "\u001b[1;32m~\\anaconda3\\lib\\site-packages\\sklearn\\svm\\_base.py\u001b[0m in \u001b[0;36mpredict\u001b[1;34m(self, X)\u001b[0m\n\u001b[0;32m    340\u001b[0m         \u001b[0my_pred\u001b[0m \u001b[1;33m:\u001b[0m \u001b[0mndarray\u001b[0m \u001b[0mof\u001b[0m \u001b[0mshape\u001b[0m \u001b[1;33m(\u001b[0m\u001b[0mn_samples\u001b[0m\u001b[1;33m,\u001b[0m\u001b[1;33m)\u001b[0m\u001b[1;33m\u001b[0m\u001b[1;33m\u001b[0m\u001b[0m\n\u001b[0;32m    341\u001b[0m         \"\"\"\n\u001b[1;32m--> 342\u001b[1;33m         \u001b[0mX\u001b[0m \u001b[1;33m=\u001b[0m \u001b[0mself\u001b[0m\u001b[1;33m.\u001b[0m\u001b[0m_validate_for_predict\u001b[0m\u001b[1;33m(\u001b[0m\u001b[0mX\u001b[0m\u001b[1;33m)\u001b[0m\u001b[1;33m\u001b[0m\u001b[1;33m\u001b[0m\u001b[0m\n\u001b[0m\u001b[0;32m    343\u001b[0m         \u001b[0mpredict\u001b[0m \u001b[1;33m=\u001b[0m \u001b[0mself\u001b[0m\u001b[1;33m.\u001b[0m\u001b[0m_sparse_predict\u001b[0m \u001b[1;32mif\u001b[0m \u001b[0mself\u001b[0m\u001b[1;33m.\u001b[0m\u001b[0m_sparse\u001b[0m \u001b[1;32melse\u001b[0m \u001b[0mself\u001b[0m\u001b[1;33m.\u001b[0m\u001b[0m_dense_predict\u001b[0m\u001b[1;33m\u001b[0m\u001b[1;33m\u001b[0m\u001b[0m\n\u001b[0;32m    344\u001b[0m         \u001b[1;32mreturn\u001b[0m \u001b[0mpredict\u001b[0m\u001b[1;33m(\u001b[0m\u001b[0mX\u001b[0m\u001b[1;33m)\u001b[0m\u001b[1;33m\u001b[0m\u001b[1;33m\u001b[0m\u001b[0m\n",
      "\u001b[1;32m~\\anaconda3\\lib\\site-packages\\sklearn\\svm\\_base.py\u001b[0m in \u001b[0;36m_validate_for_predict\u001b[1;34m(self, X)\u001b[0m\n\u001b[0;32m    491\u001b[0m                                  (X.shape[1], self.shape_fit_[0]))\n\u001b[0;32m    492\u001b[0m         \u001b[1;32melif\u001b[0m \u001b[1;32mnot\u001b[0m \u001b[0mcallable\u001b[0m\u001b[1;33m(\u001b[0m\u001b[0mself\u001b[0m\u001b[1;33m.\u001b[0m\u001b[0mkernel\u001b[0m\u001b[1;33m)\u001b[0m \u001b[1;32mand\u001b[0m \u001b[0mX\u001b[0m\u001b[1;33m.\u001b[0m\u001b[0mshape\u001b[0m\u001b[1;33m[\u001b[0m\u001b[1;36m1\u001b[0m\u001b[1;33m]\u001b[0m \u001b[1;33m!=\u001b[0m \u001b[0mself\u001b[0m\u001b[1;33m.\u001b[0m\u001b[0mshape_fit_\u001b[0m\u001b[1;33m[\u001b[0m\u001b[1;36m1\u001b[0m\u001b[1;33m]\u001b[0m\u001b[1;33m:\u001b[0m\u001b[1;33m\u001b[0m\u001b[1;33m\u001b[0m\u001b[0m\n\u001b[1;32m--> 493\u001b[1;33m             raise ValueError(\"X.shape[1] = %d should be equal to %d, \"\n\u001b[0m\u001b[0;32m    494\u001b[0m                              \u001b[1;34m\"the number of features at training time\"\u001b[0m \u001b[1;33m%\u001b[0m\u001b[1;33m\u001b[0m\u001b[1;33m\u001b[0m\u001b[0m\n\u001b[0;32m    495\u001b[0m                              (X.shape[1], self.shape_fit_[1]))\n",
      "\u001b[1;31mValueError\u001b[0m: X.shape[1] = 13 should be equal to 10, the number of features at training time"
     ]
    }
   ],
   "source": [
    "sv =  SVC()\n",
    "sv.fit(X_train, Y_train)\n",
    "predictions = sv.predict(X_test)\n",
    "print(\"Accuracy : \", accuracy_score(Y_test, predictions))\n",
    "print(\"Confusion Matrix : \\n\",confusion_matrix(Y_test, predictions))\n",
    "print(\"Classification Report: \\n\",classification_report(Y_test, predictions))"
   ]
  },
  {
   "cell_type": "code",
   "execution_count": null,
   "id": "b5e472a2",
   "metadata": {},
   "outputs": [],
   "source": []
  }
 ],
 "metadata": {
  "kernelspec": {
   "display_name": "Python 3",
   "language": "python",
   "name": "python3"
  },
  "language_info": {
   "codemirror_mode": {
    "name": "ipython",
    "version": 3
   },
   "file_extension": ".py",
   "mimetype": "text/x-python",
   "name": "python",
   "nbconvert_exporter": "python",
   "pygments_lexer": "ipython3",
   "version": "3.8.8"
  }
 },
 "nbformat": 4,
 "nbformat_minor": 5
}
